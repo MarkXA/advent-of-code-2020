{
 "metadata": {
  "language_info": {
   "codemirror_mode": {
    "name": "ipython",
    "version": 3
   },
   "file_extension": ".py",
   "mimetype": "text/x-python",
   "name": "python",
   "nbconvert_exporter": "python",
   "pygments_lexer": "ipython3",
   "version": "3.8.3-final"
  },
  "orig_nbformat": 2,
  "kernelspec": {
   "name": "python3",
   "display_name": "Python 3"
  }
 },
 "nbformat": 4,
 "nbformat_minor": 2,
 "cells": [
  {
   "cell_type": "code",
   "execution_count": 44,
   "metadata": {},
   "outputs": [],
   "source": [
    "import regex"
   ]
  },
  {
   "cell_type": "code",
   "execution_count": 45,
   "metadata": {
    "tags": []
   },
   "outputs": [
    {
     "output_type": "execute_result",
     "data": {
      "text/plain": [
       "280"
      ]
     },
     "metadata": {},
     "execution_count": 45
    }
   ],
   "source": [
    "matchDef = regex.compile(r'^(?:(.+?):(.+?)[ \\n])+$', regex.MULTILINE + regex.V1)\n",
    "\n",
    "inputFile = open('input.txt', 'r')\n",
    "inputText = inputFile.read() + '\\n'\n",
    "input = [dict(zip(m.captures(1), m.captures(2))) for m in matchDef.finditer(inputText)]\n",
    "\n",
    "len(input)"
   ]
  },
  {
   "cell_type": "code",
   "execution_count": 46,
   "metadata": {
    "tags": []
   },
   "outputs": [
    {
     "output_type": "execute_result",
     "data": {
      "text/plain": [
       "137"
      ]
     },
     "metadata": {},
     "execution_count": 46
    }
   ],
   "source": [
    "valyear = regex.compile(r'[0-9]{4}')\n",
    "valhgt = regex.compile(r'([0-9]+)(cm|in)')\n",
    "valhcl = regex.compile(r'#[0-9a-f]{6}')\n",
    "valecl = regex.compile(r'(amb|blu|brn|gry|grn|hzl|oth)')\n",
    "valpid = regex.compile(r'[0-9]{9}')\n",
    "\n",
    "def isValid(pp):\n",
    "    if len([n for n in pp.keys() if n != 'cid']) < 7:\n",
    "        return False\n",
    "\n",
    "    byr = valyear.fullmatch(pp['byr'])\n",
    "    iyr = valyear.fullmatch(pp['iyr'])\n",
    "    eyr = valyear.fullmatch(pp['eyr'])\n",
    "    hgt = valhgt.fullmatch(pp['hgt'])\n",
    "    hcl = valhcl.fullmatch(pp['hcl'])\n",
    "    ecl = valecl.fullmatch(pp['ecl'])\n",
    "    pid = valpid.fullmatch(pp['pid'])\n",
    "\n",
    "    if not(byr and int(byr[0]) >= 1920 and int(byr[0]) <= 2002): return False\n",
    "    if not(iyr and int(iyr[0]) >= 2010 and int(iyr[0]) <= 2020): return False\n",
    "    if not(eyr and int(eyr[0]) >= 2020 and int(eyr[0]) <= 2030): return False\n",
    "    if not(hgt and (\n",
    "        (hgt[2] == 'cm' and int(hgt[1]) >= 150 and int(hgt[1]) <= 193) or\n",
    "        (hgt[2] == 'in' and int(hgt[1]) >= 59 and int(hgt[1]) <= 76))):\n",
    "            return False\n",
    "    if not(hcl): return False\n",
    "    if not(ecl): return False\n",
    "    if not(pid): return False\n",
    "    \n",
    "    return True\n",
    "\n",
    "len(list(filter(isValid, input)))"
   ]
  }
 ]
}