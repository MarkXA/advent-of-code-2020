{
 "metadata": {
  "language_info": {
   "codemirror_mode": {
    "name": "ipython",
    "version": 3
   },
   "file_extension": ".py",
   "mimetype": "text/x-python",
   "name": "python",
   "nbconvert_exporter": "python",
   "pygments_lexer": "ipython3",
   "version": "3.8.3-final"
  },
  "orig_nbformat": 2,
  "kernelspec": {
   "name": "python3",
   "display_name": "Python 3"
  }
 },
 "nbformat": 4,
 "nbformat_minor": 2,
 "cells": [
  {
   "cell_type": "code",
   "execution_count": 1,
   "metadata": {},
   "outputs": [],
   "source": [
    "import regex"
   ]
  },
  {
   "cell_type": "code",
   "execution_count": 2,
   "metadata": {
    "tags": []
   },
   "outputs": [
    {
     "output_type": "execute_result",
     "data": {
      "text/plain": [
       "280"
      ]
     },
     "metadata": {},
     "execution_count": 2
    }
   ],
   "source": [
    "matchDef = regex.compile(r'^(?:(.+?):(.+?)[ \\n])+$', regex.MULTILINE + regex.V1)\n",
    "\n",
    "inputFile = open('input.txt', 'r')\n",
    "inputText = inputFile.read() + '\\n'\n",
    "input = [dict(zip(m.captures(1), m.captures(2))) for m in matchDef.finditer(inputText)]\n",
    "\n",
    "len(input)"
   ]
  },
  {
   "cell_type": "code",
   "execution_count": 6,
   "metadata": {},
   "outputs": [
    {
     "output_type": "execute_result",
     "data": {
      "text/plain": [
       "202"
      ]
     },
     "metadata": {},
     "execution_count": 6
    }
   ],
   "source": [
    "def isValid(pp):\n",
    "    return sum(1 for n in pp.keys() if n != 'cid') == 7\n",
    "\n",
    "sum(1 for pp in input if isValid(pp))"
   ]
  }
 ]
}