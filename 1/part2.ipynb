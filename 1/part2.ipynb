{
 "metadata": {
  "language_info": {
   "codemirror_mode": {
    "name": "ipython",
    "version": 3
   },
   "file_extension": ".py",
   "mimetype": "text/x-python",
   "name": "python",
   "nbconvert_exporter": "python",
   "pygments_lexer": "ipython3",
   "version": "3.8.3-final"
  },
  "orig_nbformat": 2,
  "kernelspec": {
   "name": "python3",
   "display_name": "Python 3"
  }
 },
 "nbformat": 4,
 "nbformat_minor": 2,
 "cells": [
  {
   "cell_type": "code",
   "execution_count": 11,
   "metadata": {},
   "outputs": [],
   "source": [
    "import functools\n",
    "import itertools"
   ]
  },
  {
   "cell_type": "code",
   "execution_count": 12,
   "metadata": {},
   "outputs": [
    {
     "output_type": "execute_result",
     "data": {
      "text/plain": [
       "200"
      ]
     },
     "metadata": {},
     "execution_count": 12
    }
   ],
   "source": [
    "input = open('input.txt', 'r')\n",
    "numbers = list(map(lambda x: int(x), input.readlines()))\n",
    "len(numbers)"
   ]
  },
  {
   "cell_type": "code",
   "execution_count": 16,
   "metadata": {},
   "outputs": [
    {
     "output_type": "execute_result",
     "data": {
      "text/plain": [
       "85555470"
      ]
     },
     "metadata": {},
     "execution_count": 16
    }
   ],
   "source": [
    "match = next(filter(lambda n3: sum(n3) == 2020, itertools.product(numbers, numbers, numbers)))\n",
    "\n",
    "functools.reduce(lambda x, y: x * y, match, 1)"
   ]
  }
 ]
}