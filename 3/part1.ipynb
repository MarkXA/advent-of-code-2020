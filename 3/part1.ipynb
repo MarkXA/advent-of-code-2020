{
 "metadata": {
  "language_info": {
   "codemirror_mode": {
    "name": "ipython",
    "version": 3
   },
   "file_extension": ".py",
   "mimetype": "text/x-python",
   "name": "python",
   "nbconvert_exporter": "python",
   "pygments_lexer": "ipython3",
   "version": "3.8.3-final"
  },
  "orig_nbformat": 2,
  "kernelspec": {
   "name": "python3",
   "display_name": "Python 3"
  }
 },
 "nbformat": 4,
 "nbformat_minor": 2,
 "cells": [
  {
   "cell_type": "code",
   "execution_count": 4,
   "metadata": {},
   "outputs": [],
   "source": [
    "import re\n",
    "from collections import namedtuple"
   ]
  },
  {
   "cell_type": "code",
   "execution_count": 5,
   "metadata": {},
   "outputs": [
    {
     "output_type": "execute_result",
     "data": {
      "text/plain": [
       "323"
      ]
     },
     "metadata": {},
     "execution_count": 5
    }
   ],
   "source": [
    "inputFile = open('input.txt', 'r')\n",
    "input = [l.strip() for l in inputFile.readlines()]\n",
    "len(input)"
   ]
  },
  {
   "cell_type": "code",
   "execution_count": 8,
   "metadata": {},
   "outputs": [
    {
     "output_type": "execute_result",
     "data": {
      "text/plain": [
       "148"
      ]
     },
     "metadata": {},
     "execution_count": 8
    }
   ],
   "source": [
    "maxX = len(input[0])\n",
    "maxY = len(input)\n",
    "\n",
    "def countTrees(dx, dy):\n",
    "    return sum(1\n",
    "        for n\n",
    "        in range(int((maxY + dy - 1) / dy))\n",
    "        if input[n * dy][(n * dx) % maxX] == '#')\n",
    "\n",
    "countTrees(3, 1) "
   ]
  }
 ]
}