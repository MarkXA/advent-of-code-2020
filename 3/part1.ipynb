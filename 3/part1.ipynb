{
 "metadata": {
  "language_info": {
   "codemirror_mode": {
    "name": "ipython",
    "version": 3
   },
   "file_extension": ".py",
   "mimetype": "text/x-python",
   "name": "python",
   "nbconvert_exporter": "python",
   "pygments_lexer": "ipython3",
   "version": "3.8.3-final"
  },
  "orig_nbformat": 2,
  "kernelspec": {
   "name": "python3",
   "display_name": "Python 3"
  }
 },
 "nbformat": 4,
 "nbformat_minor": 2,
 "cells": [
  {
   "cell_type": "code",
   "execution_count": 23,
   "metadata": {},
   "outputs": [],
   "source": [
    "import re\n",
    "from collections import namedtuple"
   ]
  },
  {
   "cell_type": "code",
   "execution_count": 24,
   "metadata": {},
   "outputs": [
    {
     "output_type": "execute_result",
     "data": {
      "text/plain": [
       "323"
      ]
     },
     "metadata": {},
     "execution_count": 24
    }
   ],
   "source": [
    "inputFile = open('input.txt', 'r')\n",
    "input = list(map(lambda l: list(l.strip()), inputFile.readlines()))\n",
    "len(input)"
   ]
  },
  {
   "cell_type": "code",
   "execution_count": 28,
   "metadata": {},
   "outputs": [
    {
     "output_type": "execute_result",
     "data": {
      "text/plain": [
       "148"
      ]
     },
     "metadata": {},
     "execution_count": 28
    }
   ],
   "source": [
    "dx = 3\n",
    "dy = 1\n",
    "x = 0\n",
    "y = 0\n",
    "\n",
    "trees = 0\n",
    "\n",
    "while (y < len(input)):\n",
    "    c = input[y][x % len(input[y])]\n",
    "    if (c == '#'):\n",
    "        trees = trees + 1\n",
    "    x = x + dx\n",
    "    y = y + dy\n",
    "\n",
    "trees"
   ]
  }
 ]
}