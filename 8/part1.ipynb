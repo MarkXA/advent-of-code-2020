{
 "metadata": {
  "language_info": {
   "codemirror_mode": {
    "name": "ipython",
    "version": 3
   },
   "file_extension": ".py",
   "mimetype": "text/x-python",
   "name": "python",
   "nbconvert_exporter": "python",
   "pygments_lexer": "ipython3",
   "version": "3.8.3-final"
  },
  "orig_nbformat": 2,
  "kernelspec": {
   "name": "python3",
   "display_name": "Python 3"
  }
 },
 "nbformat": 4,
 "nbformat_minor": 2,
 "cells": [
  {
   "cell_type": "code",
   "execution_count": 5,
   "metadata": {},
   "outputs": [],
   "source": [
    "import copy"
   ]
  },
  {
   "cell_type": "code",
   "execution_count": 6,
   "metadata": {
    "tags": []
   },
   "outputs": [
    {
     "output_type": "execute_result",
     "data": {
      "text/plain": [
       "654"
      ]
     },
     "metadata": {},
     "execution_count": 6
    }
   ],
   "source": [
    "inputFile = open('input.txt', 'r')\n",
    "input = (l.strip() for l in inputFile.readlines())\n",
    "\n",
    "program = [l.split(' ') for l in input]\n",
    "\n",
    "len(program)"
   ]
  },
  {
   "cell_type": "code",
   "execution_count": 9,
   "metadata": {},
   "outputs": [
    {
     "output_type": "execute_result",
     "data": {
      "text/plain": [
       "1600"
      ]
     },
     "metadata": {},
     "execution_count": 9
    }
   ],
   "source": [
    "visited = []\n",
    "ip = 0\n",
    "a = 0\n",
    "\n",
    "while not(ip in visited):\n",
    "    visited.append(ip)\n",
    "    if ip >= len(program):\n",
    "        break\n",
    "\n",
    "    ins = program[ip]\n",
    "    if ins[0] == \"jmp\":\n",
    "        ip += int(ins[1])\n",
    "        continue\n",
    "    elif ins[0] == \"acc\":\n",
    "        a += int(ins[1])\n",
    "    ip += 1\n",
    "\n",
    "a"
   ]
  }
 ]
}