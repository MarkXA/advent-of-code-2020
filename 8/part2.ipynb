{
 "metadata": {
  "language_info": {
   "codemirror_mode": {
    "name": "ipython",
    "version": 3
   },
   "file_extension": ".py",
   "mimetype": "text/x-python",
   "name": "python",
   "nbconvert_exporter": "python",
   "pygments_lexer": "ipython3",
   "version": "3.8.3-final"
  },
  "orig_nbformat": 2,
  "kernelspec": {
   "name": "python3",
   "display_name": "Python 3"
  }
 },
 "nbformat": 4,
 "nbformat_minor": 2,
 "cells": [
  {
   "cell_type": "code",
   "execution_count": 20,
   "metadata": {},
   "outputs": [],
   "source": [
    "import copy"
   ]
  },
  {
   "cell_type": "code",
   "execution_count": 21,
   "metadata": {
    "tags": []
   },
   "outputs": [
    {
     "output_type": "execute_result",
     "data": {
      "text/plain": [
       "654"
      ]
     },
     "metadata": {},
     "execution_count": 21
    }
   ],
   "source": [
    "inputFile = open('input.txt', 'r')\n",
    "input = (l.strip() for l in inputFile.readlines())\n",
    "\n",
    "program = [l.split(' ') for l in input]\n",
    "\n",
    "len(program)"
   ]
  },
  {
   "cell_type": "code",
   "execution_count": 24,
   "metadata": {},
   "outputs": [
    {
     "output_type": "stream",
     "name": "stdout",
     "text": [
      "1543\n"
     ]
    }
   ],
   "source": [
    "def run(program):\n",
    "    visited = []\n",
    "    ip = 0\n",
    "    a = 0\n",
    "    completed = False\n",
    "\n",
    "    while not(ip in visited):\n",
    "        visited.append(ip)\n",
    "        if ip > len(program):\n",
    "            break\n",
    "        if ip == len(program):\n",
    "            completed = True\n",
    "            break\n",
    "\n",
    "        ins = program[ip]\n",
    "        if ins[0] == \"jmp\":\n",
    "            ip += int(ins[1])\n",
    "            continue\n",
    "        elif ins[0] == \"acc\":\n",
    "            a += int(ins[1])\n",
    "        ip += 1\n",
    "\n",
    "    return (completed, a)\n",
    "\n",
    "for n in range(len(program)):\n",
    "    modprog = copy.deepcopy(program)\n",
    "    if (modprog[n][0]) == 'jmp':\n",
    "        modprog[n][0] = 'nop'\n",
    "    elif (modprog[n][0]) == 'nop':\n",
    "        modprog[n][0] = 'jmp'\n",
    "    else:\n",
    "        continue\n",
    "    \n",
    "    result = run(modprog)\n",
    "    if result[0]:\n",
    "        print(result[1])\n",
    "        break;"
   ]
  }
 ]
}