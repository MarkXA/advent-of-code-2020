{
 "metadata": {
  "language_info": {
   "codemirror_mode": {
    "name": "ipython",
    "version": 3
   },
   "file_extension": ".py",
   "mimetype": "text/x-python",
   "name": "python",
   "nbconvert_exporter": "python",
   "pygments_lexer": "ipython3",
   "version": "3.8.3-final"
  },
  "orig_nbformat": 2,
  "kernelspec": {
   "name": "python3",
   "display_name": "Python 3"
  }
 },
 "nbformat": 4,
 "nbformat_minor": 2,
 "cells": [
  {
   "cell_type": "code",
   "execution_count": 9,
   "metadata": {},
   "outputs": [],
   "source": [
    "import regex"
   ]
  },
  {
   "cell_type": "code",
   "execution_count": 22,
   "metadata": {
    "tags": []
   },
   "outputs": [
    {
     "output_type": "execute_result",
     "data": {
      "text/plain": [
       "594"
      ]
     },
     "metadata": {},
     "execution_count": 22
    }
   ],
   "source": [
    "matchDef1 = regex.compile(r'^(.+?) bag(?:.*?([0-9]+) (.+?) bag)+', regex.V1)\n",
    "matchDef2 = regex.compile(r'^(.+?) bag.*? no other bags()', regex.V1)\n",
    "\n",
    "inputFile = open('input.txt', 'r')\n",
    "input = (l.strip() for l in inputFile.readlines())\n",
    "bagTypes = [matchDef1.match(l) or matchDef2.match(l) for l in input]\n",
    "\n",
    "bags = dict(((\n",
    "    b.captures(1)[0],\n",
    "    [] if len(b.captures(2)[0]) == 0\n",
    "    else [(b.captures(2)[n], b.captures(3)[n]) for n in range(len(b.captures(2)))]\n",
    "    ) for b in bagTypes))\n",
    "\n",
    "len(bags)"
   ]
  },
  {
   "cell_type": "code",
   "execution_count": 23,
   "metadata": {},
   "outputs": [
    {
     "output_type": "execute_result",
     "data": {
      "text/plain": [
       "48160"
      ]
     },
     "metadata": {},
     "execution_count": 23
    }
   ],
   "source": [
    "def holds(outer):\n",
    "    bag = bags[outer]\n",
    "    return sum(((int(b[0]) * (1 + holds(b[1]))) for b in bag))\n",
    "\n",
    "holds('shiny gold')"
   ]
  }
 ]
}