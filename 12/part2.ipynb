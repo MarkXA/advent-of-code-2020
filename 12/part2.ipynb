{
 "metadata": {
  "language_info": {
   "codemirror_mode": {
    "name": "ipython",
    "version": 3
   },
   "file_extension": ".py",
   "mimetype": "text/x-python",
   "name": "python",
   "nbconvert_exporter": "python",
   "pygments_lexer": "ipython3",
   "version": "3.8.3-final"
  },
  "orig_nbformat": 2,
  "kernelspec": {
   "name": "python3",
   "display_name": "Python 3",
   "language": "python"
  }
 },
 "nbformat": 4,
 "nbformat_minor": 2,
 "cells": [
  {
   "cell_type": "code",
   "execution_count": 28,
   "metadata": {},
   "outputs": [],
   "source": [
    "import math"
   ]
  },
  {
   "cell_type": "code",
   "execution_count": 29,
   "metadata": {
    "tags": []
   },
   "outputs": [
    {
     "output_type": "execute_result",
     "data": {
      "text/plain": [
       "775"
      ]
     },
     "metadata": {},
     "execution_count": 29
    }
   ],
   "source": [
    "inputFile = open('input.txt', 'r')\n",
    "input = [(l[0], int(l[1:].strip())) for l in inputFile.readlines()]\n",
    "\n",
    "len(input)"
   ]
  },
  {
   "cell_type": "code",
   "execution_count": 39,
   "metadata": {
    "tags": []
   },
   "outputs": [
    {
     "output_type": "execute_result",
     "data": {
      "text/plain": [
       "145117"
      ]
     },
     "metadata": {},
     "execution_count": 39
    }
   ],
   "source": [
    "x = 0\n",
    "y = 0\n",
    "wx = 10\n",
    "wy = 1\n",
    "\n",
    "for instr in input:\n",
    "    n = instr[1]\n",
    "    if instr[0] == 'N':\n",
    "        wy += n\n",
    "    elif instr[0] == 'S':\n",
    "        wy -= n\n",
    "    elif instr[0] == 'E':\n",
    "        wx += n\n",
    "    elif instr[0] == 'W':\n",
    "        wx -= n\n",
    "    elif instr[0] == 'L' or instr[0] == 'R':\n",
    "        angle = math.radians(n if instr[0] == 'L' else -n)\n",
    "        r = math.sqrt(wx*wx + wy*wy)\n",
    "        if (r > 0):\n",
    "            angle += math.atan2(wy, wx)\n",
    "            wx = r * math.cos(angle)\n",
    "            wy = r * math.sin(angle)\n",
    "    elif instr[0] == 'F':\n",
    "        x += wx * n\n",
    "        y += wy * n\n",
    "\n",
    "round(abs(x) + abs(y))"
   ]
  }
 ]
}