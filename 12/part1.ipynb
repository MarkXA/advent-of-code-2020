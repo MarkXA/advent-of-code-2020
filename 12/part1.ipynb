{
 "metadata": {
  "language_info": {
   "codemirror_mode": {
    "name": "ipython",
    "version": 3
   },
   "file_extension": ".py",
   "mimetype": "text/x-python",
   "name": "python",
   "nbconvert_exporter": "python",
   "pygments_lexer": "ipython3",
   "version": "3.8.3-final"
  },
  "orig_nbformat": 2,
  "kernelspec": {
   "name": "python3",
   "display_name": "Python 3",
   "language": "python"
  }
 },
 "nbformat": 4,
 "nbformat_minor": 2,
 "cells": [
  {
   "cell_type": "code",
   "execution_count": 17,
   "metadata": {},
   "outputs": [],
   "source": [
    "import math"
   ]
  },
  {
   "cell_type": "code",
   "execution_count": 18,
   "metadata": {
    "tags": []
   },
   "outputs": [
    {
     "output_type": "execute_result",
     "data": {
      "text/plain": [
       "775"
      ]
     },
     "metadata": {},
     "execution_count": 18
    }
   ],
   "source": [
    "inputFile = open('input.txt', 'r')\n",
    "input = [(l[0], int(l[1:].strip())) for l in inputFile.readlines()]\n",
    "\n",
    "len(input)"
   ]
  },
  {
   "cell_type": "code",
   "execution_count": 22,
   "metadata": {
    "tags": []
   },
   "outputs": [
    {
     "output_type": "execute_result",
     "data": {
      "text/plain": [
       "2458"
      ]
     },
     "metadata": {},
     "execution_count": 22
    }
   ],
   "source": [
    "x = 0\n",
    "y = 0\n",
    "angle = 0\n",
    "\n",
    "for instr in input:\n",
    "    n = instr[1]\n",
    "    if instr[0] == 'N':\n",
    "        y += n\n",
    "    elif instr[0] == 'S':\n",
    "        y -= n\n",
    "    elif instr[0] == 'E':\n",
    "        x += n\n",
    "    elif instr[0] == 'W':\n",
    "        x -= n\n",
    "    elif instr[0] == 'L':\n",
    "        angle -= n\n",
    "    elif instr[0] == 'R':\n",
    "        angle += n\n",
    "    elif instr[0] == 'F':\n",
    "        x += math.cos(math.radians(angle)) * n\n",
    "        y -= math.sin(math.radians(angle)) * n\n",
    "\n",
    "round(abs(x) + abs(y))"
   ]
  }
 ]
}