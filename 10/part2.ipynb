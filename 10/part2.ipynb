{
 "metadata": {
  "language_info": {
   "codemirror_mode": {
    "name": "ipython",
    "version": 3
   },
   "file_extension": ".py",
   "mimetype": "text/x-python",
   "name": "python",
   "nbconvert_exporter": "python",
   "pygments_lexer": "ipython3",
   "version": "3.8.3-final"
  },
  "orig_nbformat": 2,
  "kernelspec": {
   "name": "python3",
   "display_name": "Python 3",
   "language": "python"
  }
 },
 "nbformat": 4,
 "nbformat_minor": 2,
 "cells": [
  {
   "cell_type": "code",
   "execution_count": 56,
   "metadata": {},
   "outputs": [],
   "source": [
    "import itertools\n",
    "import more_itertools"
   ]
  },
  {
   "cell_type": "code",
   "execution_count": 57,
   "metadata": {
    "tags": []
   },
   "outputs": [
    {
     "output_type": "execute_result",
     "data": {
      "text/plain": [
       "98"
      ]
     },
     "metadata": {},
     "execution_count": 57
    }
   ],
   "source": [
    "inputFile = open('input.txt', 'r')\n",
    "input = [int(l.strip()) for l in inputFile.readlines()]\n",
    "\n",
    "len(input)"
   ]
  },
  {
   "cell_type": "code",
   "execution_count": 58,
   "metadata": {},
   "outputs": [
    {
     "output_type": "execute_result",
     "data": {
      "text/plain": [
       "24179327893504"
      ]
     },
     "metadata": {},
     "execution_count": 58
    }
   ],
   "source": [
    "input.append(0)\n",
    "input.sort()\n",
    "\n",
    "routes = [1 for _ in input]\n",
    "\n",
    "for n in range(len(input) - 2, -1, -1):\n",
    "    routes[n] = sum([routes[n1] for n1 in range(n+1,len(input)) if input[n1] < input[n] + 4])\n",
    "\n",
    "routes[0]"
   ]
  }
 ]
}