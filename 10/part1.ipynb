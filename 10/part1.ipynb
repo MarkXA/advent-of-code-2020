{
 "metadata": {
  "language_info": {
   "codemirror_mode": {
    "name": "ipython",
    "version": 3
   },
   "file_extension": ".py",
   "mimetype": "text/x-python",
   "name": "python",
   "nbconvert_exporter": "python",
   "pygments_lexer": "ipython3",
   "version": "3.8.3-final"
  },
  "orig_nbformat": 2,
  "kernelspec": {
   "name": "python3",
   "display_name": "Python 3"
  }
 },
 "nbformat": 4,
 "nbformat_minor": 2,
 "cells": [
  {
   "cell_type": "code",
   "execution_count": 16,
   "metadata": {},
   "outputs": [],
   "source": [
    "import itertools\n",
    "import more_itertools"
   ]
  },
  {
   "cell_type": "code",
   "execution_count": 17,
   "metadata": {
    "tags": []
   },
   "outputs": [
    {
     "output_type": "execute_result",
     "data": {
      "text/plain": [
       "98"
      ]
     },
     "metadata": {},
     "execution_count": 17
    }
   ],
   "source": [
    "inputFile = open('input.txt', 'r')\n",
    "input = [int(l.strip()) for l in inputFile.readlines()]\n",
    "\n",
    "len(input)"
   ]
  },
  {
   "cell_type": "code",
   "execution_count": 19,
   "metadata": {},
   "outputs": [
    {
     "output_type": "execute_result",
     "data": {
      "text/plain": [
       "2070"
      ]
     },
     "metadata": {},
     "execution_count": 19
    }
   ],
   "source": [
    "input.sort()\n",
    "\n",
    "diffs = [0, 0, 0, 0]\n",
    "\n",
    "diffs[input[0]] = diffs[input[0]] + 1\n",
    "\n",
    "for n in range(1, len(input)):\n",
    "    diff = input[n] - input[n - 1]\n",
    "    diffs[diff] = diffs[diff] + 1\n",
    "\n",
    "diffs[3] = diffs[3] + 1\n",
    "\n",
    "diffs[1] * diffs[3]"
   ]
  }
 ]
}