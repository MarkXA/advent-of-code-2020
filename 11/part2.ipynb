{
 "metadata": {
  "language_info": {
   "codemirror_mode": {
    "name": "ipython",
    "version": 3
   },
   "file_extension": ".py",
   "mimetype": "text/x-python",
   "name": "python",
   "nbconvert_exporter": "python",
   "pygments_lexer": "ipython3",
   "version": "3.8.3-final"
  },
  "orig_nbformat": 2,
  "kernelspec": {
   "name": "python3",
   "display_name": "Python 3",
   "language": "python"
  }
 },
 "nbformat": 4,
 "nbformat_minor": 2,
 "cells": [
  {
   "cell_type": "code",
   "execution_count": 2,
   "metadata": {},
   "outputs": [],
   "source": [
    "import copy\n",
    "import itertools"
   ]
  },
  {
   "cell_type": "code",
   "execution_count": 3,
   "metadata": {
    "tags": []
   },
   "outputs": [
    {
     "output_type": "execute_result",
     "data": {
      "text/plain": [
       "92"
      ]
     },
     "metadata": {},
     "execution_count": 3
    }
   ],
   "source": [
    "inputFile = open('input.txt', 'r')\n",
    "input = [list(l.strip()) for l in inputFile.readlines()]\n",
    "\n",
    "len(input)"
   ]
  },
  {
   "cell_type": "code",
   "execution_count": 4,
   "metadata": {
    "tags": []
   },
   "outputs": [
    {
     "output_type": "execute_result",
     "data": {
      "text/plain": [
       "2100"
      ]
     },
     "metadata": {},
     "execution_count": 4
    }
   ],
   "source": [
    "maxX = len(input[0])\n",
    "maxY = len(input)\n",
    "maxXY = max(maxX, maxY)\n",
    "\n",
    "def adjacentOccupied(grid, x, y):\n",
    "    result = 0\n",
    "    for direction in ((-1, -1), (-1, 0), (-1, 1), (0, -1), (0, 1), (1, -1), (1, 0), (1, 1)):\n",
    "        dx = direction[0]\n",
    "        dy = direction[1]\n",
    "        for xy in [(x + dx * n, y + dy * n) for n in range(1, maxXY)]:\n",
    "            if xy[0] < 0 or xy[1] < 0 or xy[0] >= maxX or xy[1] >= maxY:\n",
    "                break\n",
    "            elif grid[xy[1]][xy[0]] == '#':\n",
    "                result = result + 1\n",
    "                break\n",
    "            elif grid[xy[1]][xy[0]] == 'L':\n",
    "                break\n",
    "    return result\n",
    "\n",
    "def process(grid):\n",
    "    newGrid = copy.deepcopy(grid)\n",
    "    for x in range(maxX):\n",
    "        for y in range(maxY):\n",
    "            current = grid[y][x]\n",
    "            newGrid[y][x] = (\n",
    "                '.' if current == '.' else\n",
    "                '#' if current == 'L' and adjacentOccupied(grid, x, y) == 0 else\n",
    "                'L' if current == '#' and adjacentOccupied(grid, x, y) >= 5 else\n",
    "                current\n",
    "            )\n",
    "    return newGrid\n",
    "\n",
    "def flatten(grid):\n",
    "    return \"\".join(itertools.chain(*grid))\n",
    "\n",
    "grid = copy.deepcopy(input)\n",
    "\n",
    "while True:\n",
    "    newGrid = process(grid)\n",
    "    if flatten(newGrid) == flatten(grid):\n",
    "        break\n",
    "    grid = newGrid\n",
    "\n",
    "len([c for c in flatten(grid) if c == '#'])"
   ]
  }
 ]
}