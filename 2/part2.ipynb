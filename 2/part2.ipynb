{
 "metadata": {
  "language_info": {
   "codemirror_mode": {
    "name": "ipython",
    "version": 3
   },
   "file_extension": ".py",
   "mimetype": "text/x-python",
   "name": "python",
   "nbconvert_exporter": "python",
   "pygments_lexer": "ipython3",
   "version": "3.8.3-final"
  },
  "orig_nbformat": 2,
  "kernelspec": {
   "name": "python3",
   "display_name": "Python 3"
  }
 },
 "nbformat": 4,
 "nbformat_minor": 2,
 "cells": [
  {
   "cell_type": "code",
   "execution_count": 25,
   "metadata": {},
   "outputs": [],
   "source": [
    "import itertools\n",
    "import more_itertools\n",
    "import re\n",
    "from collections import namedtuple"
   ]
  },
  {
   "cell_type": "code",
   "execution_count": 26,
   "metadata": {},
   "outputs": [
    {
     "output_type": "execute_result",
     "data": {
      "text/plain": [
       "1000"
      ]
     },
     "metadata": {},
     "execution_count": 26
    }
   ],
   "source": [
    "pwDef = namedtuple('pwDef', 'min max char pw')\n",
    "lineParse = re.compile('^([0-9]+)-([0-9]+) (.): (.*)$')\n",
    "\n",
    "def parseLine(l):\n",
    "    match = lineParse.match(l)\n",
    "    return pwDef(int(match.group(1)), int(match.group(2)), match.group(3), match.group(4))\n",
    "\n",
    "inputFile = open('input.txt', 'r')\n",
    "input = list(map(parseLine, inputFile.readlines()))\n",
    "len(input)"
   ]
  },
  {
   "cell_type": "code",
   "execution_count": 27,
   "metadata": {},
   "outputs": [
    {
     "output_type": "execute_result",
     "data": {
      "text/plain": [
       "542"
      ]
     },
     "metadata": {},
     "execution_count": 27
    }
   ],
   "source": [
    "def isValid(input):\n",
    "    matches = len(list(filter(lambda c: c == input.char, input.pw)))\n",
    "    return matches >= input.min and matches <= input.max\n",
    "\n",
    "len(list(filter(isValid, input)))"
   ]
  }
 ]
}