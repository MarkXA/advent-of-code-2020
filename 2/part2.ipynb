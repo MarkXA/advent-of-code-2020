{
 "metadata": {
  "language_info": {
   "codemirror_mode": {
    "name": "ipython",
    "version": 3
   },
   "file_extension": ".py",
   "mimetype": "text/x-python",
   "name": "python",
   "nbconvert_exporter": "python",
   "pygments_lexer": "ipython3",
   "version": "3.8.3-final"
  },
  "orig_nbformat": 2,
  "kernelspec": {
   "name": "python3",
   "display_name": "Python 3"
  }
 },
 "nbformat": 4,
 "nbformat_minor": 2,
 "cells": [
  {
   "cell_type": "code",
   "execution_count": 1,
   "metadata": {},
   "outputs": [],
   "source": [
    "import re\n",
    "from collections import namedtuple"
   ]
  },
  {
   "cell_type": "code",
   "execution_count": 2,
   "metadata": {},
   "outputs": [
    {
     "output_type": "execute_result",
     "data": {
      "text/plain": [
       "1000"
      ]
     },
     "metadata": {},
     "execution_count": 2
    }
   ],
   "source": [
    "pwDef = namedtuple('pwDef', 'a b char pw')\n",
    "lineParse = re.compile('^([0-9]+)-([0-9]+) (.): (.*)$')\n",
    "\n",
    "def parseLine(l):\n",
    "    match = lineParse.match(l)\n",
    "    return pwDef(int(match.group(1)), int(match.group(2)), match.group(3), match.group(4))\n",
    "\n",
    "inputFile = open('input.txt', 'r')\n",
    "input = list(map(parseLine, inputFile.readlines()))\n",
    "len(input)"
   ]
  },
  {
   "cell_type": "code",
   "execution_count": 12,
   "metadata": {},
   "outputs": [
    {
     "output_type": "execute_result",
     "data": {
      "text/plain": [
       "360"
      ]
     },
     "metadata": {},
     "execution_count": 12
    }
   ],
   "source": [
    "def isValid(input):\n",
    "    c1 = input.pw[input.a - 1]\n",
    "    c2 = input.pw[input.b - 1]\n",
    "    return (c1 == input.char) ^ (c2 == input.char)\n",
    "\n",
    "len(list(filter(isValid, input)))"
   ]
  }
 ]
}