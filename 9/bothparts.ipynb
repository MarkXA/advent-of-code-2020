{
 "metadata": {
  "language_info": {
   "codemirror_mode": {
    "name": "ipython",
    "version": 3
   },
   "file_extension": ".py",
   "mimetype": "text/x-python",
   "name": "python",
   "nbconvert_exporter": "python",
   "pygments_lexer": "ipython3",
   "version": "3.8.3-final"
  },
  "orig_nbformat": 2,
  "kernelspec": {
   "name": "python3",
   "display_name": "Python 3"
  }
 },
 "nbformat": 4,
 "nbformat_minor": 2,
 "cells": [
  {
   "cell_type": "code",
   "execution_count": 1,
   "metadata": {},
   "outputs": [],
   "source": [
    "import itertools\n",
    "import more_itertools"
   ]
  },
  {
   "cell_type": "code",
   "execution_count": 2,
   "metadata": {
    "tags": []
   },
   "outputs": [
    {
     "output_type": "execute_result",
     "data": {
      "text/plain": [
       "1000"
      ]
     },
     "metadata": {},
     "execution_count": 2
    }
   ],
   "source": [
    "inputFile = open('input.txt', 'r')\n",
    "input = [int(l.strip()) for l in inputFile.readlines()]\n",
    "\n",
    "len(input)"
   ]
  },
  {
   "cell_type": "code",
   "execution_count": 3,
   "metadata": {},
   "outputs": [
    {
     "output_type": "execute_result",
     "data": {
      "text/plain": [
       "29221323"
      ]
     },
     "metadata": {},
     "execution_count": 3
    }
   ],
   "source": [
    "checkLen = 25\n",
    "\n",
    "def isInvalid(n):\n",
    "    check = input[n-checkLen:n]\n",
    "    return not input[n] in (p[0] + p[1] for p in itertools.product(check, check))\n",
    "\n",
    "invalid = input[more_itertools.first_true(range(checkLen, len(input)), pred=isInvalid)]\n",
    "\n",
    "invalid"
   ]
  },
  {
   "cell_type": "code",
   "execution_count": 4,
   "metadata": {},
   "outputs": [
    {
     "output_type": "execute_result",
     "data": {
      "text/plain": [
       "4389369"
      ]
     },
     "metadata": {},
     "execution_count": 4
    }
   ],
   "source": [
    "def upperMatch(n0):\n",
    "    n1 = more_itertools.first_true(range(n0 + 2, len(input)), pred=lambda n1: sum(input[n0:n1]) >= invalid)\n",
    "    return input[n0:n1] if sum(input[n0:n1]) == invalid else []\n",
    "\n",
    "match = more_itertools.first_true((upperMatch(n) for n in range(0, len(input) - 2)), pred=bool)\n",
    "\n",
    "min(match) + max(match)"
   ]
  }
 ]
}